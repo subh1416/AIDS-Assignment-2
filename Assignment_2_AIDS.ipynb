{
  "nbformat": 4,
  "nbformat_minor": 0,
  "metadata": {
    "colab": {
      "provenance": []
    },
    "kernelspec": {
      "name": "python3",
      "display_name": "Python 3"
    },
    "language_info": {
      "name": "python"
    }
  },
  "cells": [
    {
      "cell_type": "markdown",
      "source": [
        "# Demand Forecasting (regression)"
      ],
      "metadata": {
        "id": "12FMQxlxPSAq"
      }
    },
    {
      "cell_type": "code",
      "source": [
        "import pandas as pd\n",
        "data = pd.read_csv('demand.csv')\n",
        "data.head(), data.info()\n"
      ],
      "metadata": {
        "colab": {
          "base_uri": "https://localhost:8080/"
        },
        "id": "tE1d7gQU22x6",
        "outputId": "05bd387b-66c6-41fb-bd92-0d1dda39081a"
      },
      "execution_count": null,
      "outputs": [
        {
          "output_type": "stream",
          "name": "stdout",
          "text": [
            "<class 'pandas.core.frame.DataFrame'>\n",
            "RangeIndex: 1029518 entries, 0 to 1029517\n",
            "Data columns (total 5 columns):\n",
            " #   Column            Non-Null Count    Dtype \n",
            "---  ------            --------------    ----- \n",
            " 0   Product_Code      1029518 non-null  object\n",
            " 1   Warehouse         1029518 non-null  object\n",
            " 2   Product_Category  1029517 non-null  object\n",
            " 3   Date              1018278 non-null  object\n",
            " 4   Order_Demand      1029517 non-null  object\n",
            "dtypes: object(5)\n",
            "memory usage: 39.3+ MB\n"
          ]
        },
        {
          "output_type": "execute_result",
          "data": {
            "text/plain": [
              "(   Product_Code Warehouse Product_Category       Date Order_Demand\n",
              " 0  Product_0993    Whse_J     Category_028  2012/7/27         100 \n",
              " 1  Product_0979    Whse_J     Category_028  2012/1/19         500 \n",
              " 2  Product_0979    Whse_J     Category_028   2012/2/3         500 \n",
              " 3  Product_0979    Whse_J     Category_028   2012/2/9         500 \n",
              " 4  Product_0979    Whse_J     Category_028   2012/3/2         500 ,\n",
              " None)"
            ]
          },
          "metadata": {},
          "execution_count": 3
        }
      ]
    },
    {
      "cell_type": "code",
      "source": [
        "from sklearn.model_selection import train_test_split\n",
        "from sklearn.preprocessing import LabelEncoder\n",
        "\n",
        "# Remove non-numeric characters and convert Order_Demand to numeric\n",
        "data['Order_Demand'] = pd.to_numeric(data['Order_Demand'].str.replace('[^0-9]', '', regex=True))\n",
        "\n",
        "# Drop rows with missing values in Date or Order_Demand columns\n",
        "data = data.dropna(subset=['Date', 'Order_Demand'])\n",
        "\n",
        "# Label encode categorical features\n",
        "label_encoder = LabelEncoder()\n",
        "data['Product_Code'] = label_encoder.fit_transform(data['Product_Code'])\n",
        "data['Warehouse'] = label_encoder.fit_transform(data['Warehouse'])\n",
        "data['Product_Category'] = label_encoder.fit_transform(data['Product_Category'])\n",
        "\n",
        "# Drop the Date column for simplicity (or we could extract date features later if needed)\n",
        "data = data.drop(columns=['Date'])\n",
        "\n",
        "# Split data into features (X) and target (y)\n",
        "X = data.drop(columns=['Order_Demand'])\n",
        "y = data['Order_Demand']\n",
        "\n",
        "# Split into training and testing datasets\n",
        "X_train, X_test, y_train, y_test = train_test_split(X, y, test_size=0.2, random_state=42)\n",
        "\n",
        "X_train.shape, X_test.shape, y_train.shape, y_test.shape\n"
      ],
      "metadata": {
        "colab": {
          "base_uri": "https://localhost:8080/"
        },
        "id": "E5pOsmYI_sxM",
        "outputId": "458f3821-454d-4825-a6c0-2b9f795eb8f0"
      },
      "execution_count": null,
      "outputs": [
        {
          "output_type": "execute_result",
          "data": {
            "text/plain": [
              "((814622, 3), (203656, 3), (814622,), (203656,))"
            ]
          },
          "metadata": {},
          "execution_count": 4
        }
      ]
    },
    {
      "cell_type": "code",
      "source": [
        "import pandas as pd\n",
        "import tensorflow as tf\n",
        "from sklearn.model_selection import train_test_split\n",
        "from sklearn.preprocessing import LabelEncoder\n",
        "\n",
        "# Load the dataset\n",
        "data = pd.read_csv('demand.csv')\n",
        "\n",
        "# Remove non-numeric characters and convert Order_Demand to numeric\n",
        "data['Order_Demand'] = pd.to_numeric(data['Order_Demand'].str.replace('[^0-9]', '', regex=True))\n",
        "\n",
        "# Drop rows with missing values in Date or Order_Demand columns\n",
        "data = data.dropna(subset=['Date', 'Order_Demand'])\n",
        "\n",
        "# Label encode categorical features\n",
        "label_encoder = LabelEncoder()\n",
        "data['Product_Code'] = label_encoder.fit_transform(data['Product_Code'])\n",
        "data['Warehouse'] = label_encoder.fit_transform(data['Warehouse'])\n",
        "data['Product_Category'] = label_encoder.fit_transform(data['Product_Category'])\n",
        "\n",
        "# Drop the Date column\n",
        "data = data.drop(columns=['Date'])\n",
        "\n",
        "# Split data into features (X) and target (y)\n",
        "X = data.drop(columns=['Order_Demand'])\n",
        "y = data['Order_Demand']\n",
        "\n",
        "# Split into training and testing datasets\n",
        "X_train, X_test, y_train, y_test = train_test_split(X, y, test_size=0.2, random_state=42)\n",
        "\n",
        "# Define the neural network model\n",
        "model = tf.keras.models.Sequential()\n",
        "\n",
        "# Input layer and first hidden layer\n",
        "model.add(tf.keras.layers.Dense(64, input_dim=X_train.shape[1], activation='relu'))\n",
        "\n",
        "# Second hidden layer\n",
        "model.add(tf.keras.layers.Dense(32, activation='relu'))\n",
        "\n",
        "# Output layer\n",
        "model.add(tf.keras.layers.Dense(1, activation='linear'))\n",
        "\n",
        "# Compile the model\n",
        "model.compile(optimizer='adam', loss='mean_squared_error', metrics=['mae'])\n",
        "\n",
        "# Train the model\n",
        "history = model.fit(X_train, y_train, epochs=10, batch_size=32, validation_data=(X_test, y_test), verbose=1)\n",
        "\n",
        "# Evaluate the model on test data\n",
        "loss, mae = model.evaluate(X_test, y_test)\n",
        "\n",
        "# Get model weights and biases\n",
        "weights = model.get_weights()\n",
        "\n",
        "print(\"Mean Absolute Error on Test Set:\", mae)\n",
        "print(\"Weights and Biases:\", weights)\n"
      ],
      "metadata": {
        "colab": {
          "base_uri": "https://localhost:8080/"
        },
        "id": "KHTT0_LN_zUa",
        "outputId": "386458d7-cfab-44a2-90b7-1a2aab365bf8"
      },
      "execution_count": null,
      "outputs": [
        {
          "output_type": "stream",
          "name": "stdout",
          "text": [
            "Epoch 1/10\n"
          ]
        },
        {
          "output_type": "stream",
          "name": "stderr",
          "text": [
            "/usr/local/lib/python3.10/dist-packages/keras/src/layers/core/dense.py:87: UserWarning: Do not pass an `input_shape`/`input_dim` argument to a layer. When using Sequential models, prefer using an `Input(shape)` object as the first layer in the model instead.\n",
            "  super().__init__(activity_regularizer=activity_regularizer, **kwargs)\n"
          ]
        },
        {
          "output_type": "stream",
          "name": "stdout",
          "text": [
            "\u001b[1m25457/25457\u001b[0m \u001b[32m━━━━━━━━━━━━━━━━━━━━\u001b[0m\u001b[37m\u001b[0m \u001b[1m49s\u001b[0m 2ms/step - loss: 848787264.0000 - mae: 6923.2915 - val_loss: 708329984.0000 - val_mae: 7448.5234\n",
            "Epoch 2/10\n",
            "\u001b[1m25457/25457\u001b[0m \u001b[32m━━━━━━━━━━━━━━━━━━━━\u001b[0m\u001b[37m\u001b[0m \u001b[1m86s\u001b[0m 2ms/step - loss: 844987456.0000 - mae: 7023.0728 - val_loss: 704720768.0000 - val_mae: 7277.2812\n",
            "Epoch 3/10\n",
            "\u001b[1m25457/25457\u001b[0m \u001b[32m━━━━━━━━━━━━━━━━━━━━\u001b[0m\u001b[37m\u001b[0m \u001b[1m47s\u001b[0m 2ms/step - loss: 899160128.0000 - mae: 6904.3594 - val_loss: 701836352.0000 - val_mae: 6356.4160\n",
            "Epoch 4/10\n",
            "\u001b[1m25457/25457\u001b[0m \u001b[32m━━━━━━━━━━━━━━━━━━━━\u001b[0m\u001b[37m\u001b[0m \u001b[1m52s\u001b[0m 2ms/step - loss: 833016128.0000 - mae: 6887.4883 - val_loss: 701095360.0000 - val_mae: 6349.6035\n",
            "Epoch 5/10\n",
            "\u001b[1m25457/25457\u001b[0m \u001b[32m━━━━━━━━━━━━━━━━━━━━\u001b[0m\u001b[37m\u001b[0m \u001b[1m82s\u001b[0m 2ms/step - loss: 924110848.0000 - mae: 6872.3809 - val_loss: 706111360.0000 - val_mae: 7917.6426\n",
            "Epoch 6/10\n",
            "\u001b[1m25457/25457\u001b[0m \u001b[32m━━━━━━━━━━━━━━━━━━━━\u001b[0m\u001b[37m\u001b[0m \u001b[1m80s\u001b[0m 2ms/step - loss: 840091072.0000 - mae: 6834.0054 - val_loss: 703135360.0000 - val_mae: 7492.5806\n",
            "Epoch 7/10\n",
            "\u001b[1m25457/25457\u001b[0m \u001b[32m━━━━━━━━━━━━━━━━━━━━\u001b[0m\u001b[37m\u001b[0m \u001b[1m47s\u001b[0m 2ms/step - loss: 893931328.0000 - mae: 6918.4893 - val_loss: 699705344.0000 - val_mae: 6279.9888\n",
            "Epoch 8/10\n",
            "\u001b[1m25457/25457\u001b[0m \u001b[32m━━━━━━━━━━━━━━━━━━━━\u001b[0m\u001b[37m\u001b[0m \u001b[1m86s\u001b[0m 2ms/step - loss: 908808704.0000 - mae: 6863.4971 - val_loss: 702603840.0000 - val_mae: 7625.1846\n",
            "Epoch 9/10\n",
            "\u001b[1m25457/25457\u001b[0m \u001b[32m━━━━━━━━━━━━━━━━━━━━\u001b[0m\u001b[37m\u001b[0m \u001b[1m81s\u001b[0m 2ms/step - loss: 838860160.0000 - mae: 6825.9785 - val_loss: 696933376.0000 - val_mae: 6237.8330\n",
            "Epoch 10/10\n",
            "\u001b[1m25457/25457\u001b[0m \u001b[32m━━━━━━━━━━━━━━━━━━━━\u001b[0m\u001b[37m\u001b[0m \u001b[1m47s\u001b[0m 2ms/step - loss: 917654592.0000 - mae: 6855.0103 - val_loss: 691962880.0000 - val_mae: 6813.8794\n",
            "\u001b[1m6365/6365\u001b[0m \u001b[32m━━━━━━━━━━━━━━━━━━━━\u001b[0m\u001b[37m\u001b[0m \u001b[1m9s\u001b[0m 1ms/step - loss: 749475584.0000 - mae: 6830.7793\n",
            "Mean Absolute Error on Test Set: 6813.87939453125\n",
            "Weights and Biases: [array([[-1.74060404e-01, -1.63547453e-02, -1.44999638e-01,\n",
            "        -2.69927591e-01, -1.80395728e-03, -2.38780002e-03,\n",
            "         8.25447515e-02, -1.41115487e-01, -1.19679824e-01,\n",
            "        -4.31799749e-03, -1.67406779e-02, -1.53429300e-01,\n",
            "        -2.43234448e-02, -4.77172574e-03, -6.32783473e-02,\n",
            "         9.89985913e-02, -4.75262016e-01, -2.58065015e-01,\n",
            "        -5.46690030e-03, -2.71884948e-01, -7.53581524e-02,\n",
            "        -2.08618883e-02, -1.75633684e-01, -1.51990771e-01,\n",
            "        -1.88028306e-01, -1.70149848e-01,  1.18951350e-02,\n",
            "        -1.09789544e-03, -3.14976228e-03, -2.35482693e-01,\n",
            "        -1.35050004e-03, -1.17491871e-01, -1.17540032e-01,\n",
            "        -1.20797278e-02, -7.05422135e-04,  7.01131523e-02,\n",
            "        -1.70272604e-01, -4.82457876e-03,  8.89474154e-02,\n",
            "        -1.30826831e-02, -6.45854324e-02, -1.77802399e-01,\n",
            "        -1.62563264e-01, -1.17505871e-01, -1.52086049e-01,\n",
            "        -1.60105631e-03, -1.36256650e-01, -3.08269961e-03,\n",
            "        -2.19268918e-01, -1.58390880e-01, -7.23772943e-02,\n",
            "        -4.88753244e-02, -1.78529903e-01, -8.60517025e-02,\n",
            "        -8.22438896e-02, -8.54573026e-02,  2.34292150e-01,\n",
            "         2.34206058e-02, -1.05823293e-01, -2.43036682e-03,\n",
            "        -2.74168938e-01, -1.54432297e-01, -1.19401747e-02,\n",
            "        -1.88331120e-02],\n",
            "       [ 4.25215960e+00, -3.23112154e+00,  4.32622194e+00,\n",
            "        -1.18936300e-01,  1.19010201e+01,  1.09936771e+01,\n",
            "        -1.23158712e+01,  4.16278791e+00, -1.71440244e-01,\n",
            "         1.09881411e+01,  1.01713200e+01,  4.01182938e+00,\n",
            "        -2.83690882e+00, -2.00689048e-01,  4.49210739e+00,\n",
            "         1.09912500e+01,  1.01845455e+01, -2.30480447e-01,\n",
            "         1.12827816e+01,  2.86869526e+00, -1.97960854e-01,\n",
            "        -1.07624519e+00,  4.09427404e+00,  4.03827095e+00,\n",
            "         1.15977377e-01,  4.39522886e+00,  1.00889111e+01,\n",
            "         1.10934725e+01,  9.97393513e+00,  4.76107895e-02,\n",
            "         1.11776142e+01,  1.01639585e+01, -5.79455346e-02,\n",
            "        -4.04893208e+00,  1.11296549e+01,  1.09809084e+01,\n",
            "         4.35290194e+00, -1.19616389e-01,  1.07040720e+01,\n",
            "        -1.39630482e-01,  4.70768452e+00,  4.63705063e+00,\n",
            "        -2.79077888e-01,  4.50907087e+00,  4.53436518e+00,\n",
            "         1.14913731e+01,  9.93266201e+00,  9.64015388e+00,\n",
            "         2.19984913e+00,  4.15530157e+00,  8.88376951e-01,\n",
            "         1.76654592e-01,  4.26672602e+00, -1.57942876e-01,\n",
            "         1.23821318e-01,  1.86366975e+00,  1.02324953e+01,\n",
            "         1.04986610e+01,  9.11249065e+00,  1.00137939e+01,\n",
            "         8.29436839e-01,  2.92971075e-01,  9.45517254e+00,\n",
            "        -3.03739619e+00],\n",
            "       [ 1.92855585e+00,  4.19720840e+00,  1.82801545e+00,\n",
            "         9.41548776e-03, -1.23821592e+00, -1.00971937e+00,\n",
            "        -4.42718458e+00,  1.76802754e+00, -2.87776709e-01,\n",
            "        -1.09733284e+00, -1.32797229e+00,  1.76034999e+00,\n",
            "         4.32578850e+00, -1.40034050e-01,  1.73591113e+00,\n",
            "         3.48863043e-02,  8.63175690e-02, -1.04063943e-01,\n",
            "        -9.70611155e-01,  2.46705270e+00, -2.62238920e-01,\n",
            "         3.98806024e+00,  1.76744735e+00,  1.71497142e+00,\n",
            "        -1.58756167e-01,  1.73566878e+00, -1.09864247e+00,\n",
            "        -1.13288295e+00, -1.06112719e+00, -2.22855985e-01,\n",
            "        -1.12883294e+00, -5.51442742e-01, -1.38576031e-02,\n",
            "         4.41141605e+00, -1.09154570e+00,  2.77346402e-01,\n",
            "         1.82187569e+00, -1.14555284e-01,  8.94914195e-02,\n",
            "        -2.70070702e-01,  1.78849983e+00,  1.82451153e+00,\n",
            "        -1.25795931e-01,  1.71141219e+00,  1.78407907e+00,\n",
            "        -1.16664267e+00, -3.70604992e-01, -6.82743192e-01,\n",
            "         2.65533638e+00,  1.79059005e+00,  4.45779800e+00,\n",
            "        -1.32643193e-01,  1.95121193e+00, -2.97417045e-01,\n",
            "        -1.25826180e-01,  5.18789244e+00, -5.53448081e-01,\n",
            "        -1.14747822e+00, -3.65706086e-01, -1.08527017e+00,\n",
            "         3.64808726e+00, -2.38616705e-01, -1.44296980e+00,\n",
            "         4.09617376e+00]], dtype=float32), array([-2.6736596 ,  1.7964948 , -2.6082478 , -0.04811466,  2.019777  ,\n",
            "        0.05880558, -7.6357255 , -2.583957  ,  0.        ,  3.7058864 ,\n",
            "        8.824763  , -2.7658138 ,  1.5854295 , -0.03663598, -2.5189602 ,\n",
            "        0.41183278,  6.1391697 ,  0.        ,  5.113473  ,  4.9330153 ,\n",
            "        0.        ,  3.7857873 , -2.74818   , -2.859691  ,  0.        ,\n",
            "       -2.8083315 ,  0.11087761,  0.24670477,  3.053221  ,  0.        ,\n",
            "        0.7982656 ,  0.5082622 ,  0.        ,  1.6155663 ,  0.15498754,\n",
            "        0.21554089, -2.7293363 ,  0.        ,  0.433542  ,  0.        ,\n",
            "       -2.4382756 , -2.658957  ,  0.        , -2.663285  , -2.7310295 ,\n",
            "        1.2848183 , -0.5876532 ,  5.3568954 ,  6.137845  , -2.8148618 ,\n",
            "        5.588483  , -0.02954056, -2.6704838 ,  0.        ,  0.        ,\n",
            "        6.9447975 ,  0.6031543 ,  0.2666086 , -1.79566   ,  3.5297525 ,\n",
            "        4.707484  ,  0.        ,  8.240996  ,  1.7429078 ], dtype=float32), array([[ 0.22246403, -0.18080264,  2.728741  , ..., -0.02744293,\n",
            "         2.686944  , -0.16806316],\n",
            "       [-0.15873665,  0.11411195,  0.5251998 , ...,  0.17297336,\n",
            "        -0.709875  , -0.06178235],\n",
            "       [-0.04616779, -0.37445047,  3.0297415 , ...,  0.05507836,\n",
            "         2.8748753 , -0.12321496],\n",
            "       ...,\n",
            "       [-0.23003912, -0.08252007, -0.20740288, ..., -0.16050476,\n",
            "         0.03735512, -0.19515467],\n",
            "       [ 0.21890777,  0.2761801 , -0.627226  , ..., -0.23648456,\n",
            "        -1.7583728 ,  0.14787006],\n",
            "       [-0.13852596,  0.44795755,  0.5857542 , ..., -0.17662182,\n",
            "        -0.69834656, -0.01077855]], dtype=float32), array([-0.03176551,  0.42921495, -0.32102033, -0.05990013,  0.06946281,\n",
            "       -0.12703928, -0.63227946, -0.3033742 , -0.10520869, -1.1297779 ,\n",
            "        7.5619926 ,  0.74552965, -0.05951452,  7.126656  ,  1.4205003 ,\n",
            "        0.7660367 , -0.05184424, -0.10288212, -1.0195646 , -0.02376222,\n",
            "       -0.6936996 , -0.02769963,  7.777811  ,  0.        , -1.1406193 ,\n",
            "       -0.03457371, -0.04704047, -1.8124958 ,  1.3998107 , -0.03176581,\n",
            "        0.5336353 , -0.03176556], dtype=float32), array([[-1.22975513e-01],\n",
            "       [ 1.58516836e+00],\n",
            "       [ 3.15375876e+00],\n",
            "       [ 4.42764023e-03],\n",
            "       [ 2.60423517e+00],\n",
            "       [-1.88176230e-01],\n",
            "       [ 3.78789806e+00],\n",
            "       [ 3.26988864e+00],\n",
            "       [-2.93899298e-01],\n",
            "       [ 4.20882559e+00],\n",
            "       [-3.90491343e+00],\n",
            "       [ 2.70954037e+00],\n",
            "       [-2.95850355e-03],\n",
            "       [-3.73401046e+00],\n",
            "       [ 1.86216176e+00],\n",
            "       [ 2.80617261e+00],\n",
            "       [-1.04546480e-01],\n",
            "       [-1.78200722e-01],\n",
            "       [ 3.97800422e+00],\n",
            "       [-2.54930109e-01],\n",
            "       [-1.00454035e+01],\n",
            "       [-2.96886832e-01],\n",
            "       [-3.17983556e+00],\n",
            "       [-2.62440622e-01],\n",
            "       [ 4.29979420e+00],\n",
            "       [-2.15817988e-01],\n",
            "       [-3.46682161e-01],\n",
            "       [-1.22121086e+01],\n",
            "       [ 1.73887825e+00],\n",
            "       [-3.56349528e-01],\n",
            "       [ 2.36734843e+00],\n",
            "       [ 1.79589093e-01]], dtype=float32), array([1.5025245], dtype=float32)]\n"
          ]
        }
      ]
    }
  ]
}